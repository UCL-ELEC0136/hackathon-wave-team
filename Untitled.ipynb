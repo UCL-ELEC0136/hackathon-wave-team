{
 "cells": [
  {
   "cell_type": "code",
   "execution_count": 10,
   "id": "25abac66",
   "metadata": {},
   "outputs": [],
   "source": [
    "import urllib\n",
    "import requests"
   ]
  },
  {
   "cell_type": "code",
   "execution_count": 11,
   "id": "8a9fcccd",
   "metadata": {},
   "outputs": [],
   "source": [
    "url = \"https://api.github.com/orgs/google/repositories\""
   ]
  },
  {
   "cell_type": "code",
   "execution_count": 12,
   "id": "c1b56087",
   "metadata": {},
   "outputs": [],
   "source": [
    "request = requests.get(url)"
   ]
  },
  {
   "cell_type": "code",
   "execution_count": 15,
   "id": "ecd62cb6",
   "metadata": {},
   "outputs": [],
   "source": [
    "google_json = request.json()"
   ]
  },
  {
   "cell_type": "code",
   "execution_count": null,
   "id": "49228bfb",
   "metadata": {},
   "outputs": [],
   "source": []
  },
  {
   "cell_type": "code",
   "execution_count": null,
   "id": "675eee73",
   "metadata": {
    "scrolled": true
   },
   "outputs": [
    {
     "name": "stdout",
     "output_type": "stream",
     "text": [
      "0\n",
      "1\n",
      "2\n",
      "3\n",
      "4\n",
      "5\n",
      "6\n",
      "7\n",
      "8\n",
      "9\n",
      "10\n",
      "11\n",
      "12\n",
      "13\n",
      "14\n",
      "15\n",
      "16\n",
      "17\n",
      "18\n",
      "19\n",
      "20\n",
      "21\n",
      "22\n",
      "23\n",
      "24\n",
      "25\n",
      "26\n",
      "27\n",
      "28\n",
      "29\n",
      "30\n",
      "31\n",
      "32\n",
      "33\n",
      "34\n",
      "35\n",
      "36\n",
      "37\n",
      "38\n",
      "39\n",
      "40\n",
      "41\n",
      "42\n",
      "43\n",
      "44\n",
      "45\n",
      "46\n",
      "47\n",
      "48\n",
      "49\n",
      "50\n",
      "51\n",
      "52\n",
      "53\n",
      "54\n",
      "55\n"
     ]
    }
   ],
   "source": [
    "array_pages = []\n",
    "\n",
    "for page in range(80):\n",
    "    url_page = url + \"?page=\" + str(page)\n",
    "    request = requests.get(url_page)\n",
    "    google_json = request.json()\n",
    "    print(page)\n",
    "    #print(len(google_json))\n",
    "    #print(\"------\")\n",
    "    \n",
    "    for repo in google_json:\n",
    "        array_pages.append(google_json)"
   ]
  },
  {
   "cell_type": "code",
   "execution_count": 36,
   "id": "7de9e56d",
   "metadata": {},
   "outputs": [
    {
     "data": {
      "text/plain": [
       "1448"
      ]
     },
     "execution_count": 36,
     "metadata": {},
     "output_type": "execute_result"
    }
   ],
   "source": [
    "len(array_pages)"
   ]
  },
  {
   "cell_type": "code",
   "execution_count": 40,
   "id": "9df2f772",
   "metadata": {},
   "outputs": [
    {
     "data": {
      "text/plain": [
       "{'message': \"API rate limit exceeded for 144.82.8.126. (But here's the good news: Authenticated requests get a higher rate limit. Check out the documentation for more details.)\",\n",
       " 'documentation_url': 'https://docs.github.com/rest/overview/resources-in-the-rest-api#rate-limiting'}"
      ]
     },
     "execution_count": 40,
     "metadata": {},
     "output_type": "execute_result"
    }
   ],
   "source": [
    "array_pages[3]"
   ]
  },
  {
   "cell_type": "code",
   "execution_count": null,
   "id": "9c1cbe30",
   "metadata": {},
   "outputs": [],
   "source": []
  }
 ],
 "metadata": {
  "kernelspec": {
   "display_name": "Python 3 (ipykernel)",
   "language": "python",
   "name": "python3"
  },
  "language_info": {
   "codemirror_mode": {
    "name": "ipython",
    "version": 3
   },
   "file_extension": ".py",
   "mimetype": "text/x-python",
   "name": "python",
   "nbconvert_exporter": "python",
   "pygments_lexer": "ipython3",
   "version": "3.7.13"
  }
 },
 "nbformat": 4,
 "nbformat_minor": 5
}
